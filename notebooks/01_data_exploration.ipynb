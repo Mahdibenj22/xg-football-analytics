{
 "cells": [
  {
   "cell_type": "code",
   "execution_count": 2,
   "id": "4ea32655",
   "metadata": {},
   "outputs": [],
   "source": [
    "# Test StatsBomb connection\n",
    "from statsbombpy import sb\n",
    "import pandas as pd\n",
    "import warnings\n",
    "warnings.filterwarnings('ignore')"
   ]
  },
  {
   "cell_type": "code",
   "execution_count": 3,
   "id": "8f283d47",
   "metadata": {},
   "outputs": [
    {
     "name": "stdout",
     "output_type": "stream",
     "text": [
      "🔄 Testing StatsBomb connection...\n",
      "✅ Found 74 competitions available\n"
     ]
    }
   ],
   "source": [
    "# Test 1: Get competitions\n",
    "print(\"🔄 Testing StatsBomb connection...\")\n",
    "competitions = sb.competitions()\n",
    "print(f\"✅ Found {len(competitions)} competitions available\")\n"
   ]
  },
  {
   "cell_type": "code",
   "execution_count": 4,
   "id": "aaefb78a",
   "metadata": {},
   "outputs": [
    {
     "name": "stdout",
     "output_type": "stream",
     "text": [
      "\n",
      "📊 Available competitions (sample):\n",
      "         competition_name season_name  competition_id  season_id\n",
      "0           1. Bundesliga   2023/2024               9        281\n",
      "1           1. Bundesliga   2015/2016               9         27\n",
      "2  African Cup of Nations        2023            1267        107\n",
      "3        Champions League   2018/2019              16          4\n",
      "4        Champions League   2017/2018              16          1\n",
      "5        Champions League   2016/2017              16          2\n",
      "6        Champions League   2015/2016              16         27\n",
      "7        Champions League   2014/2015              16         26\n",
      "8        Champions League   2013/2014              16         25\n",
      "9        Champions League   2012/2013              16         24\n"
     ]
    }
   ],
   "source": [
    "# Test 2: Display first 10 competitions\n",
    "print(\"\\n📊 Available competitions (sample):\")\n",
    "display_cols = ['competition_name', 'season_name', 'competition_id', 'season_id']\n",
    "print(competitions[display_cols].head(10))\n"
   ]
  },
  {
   "cell_type": "code",
   "execution_count": 5,
   "id": "9f546707",
   "metadata": {},
   "outputs": [
    {
     "name": "stdout",
     "output_type": "stream",
     "text": [
      "\n",
      "⚽ Premier League seasons available: 2\n",
      "Premier League seasons found:\n",
      "   season_name  competition_id  season_id\n",
      "64   2015/2016               2         27\n",
      "65   2003/2004               2         44\n"
     ]
    }
   ],
   "source": [
    "# Test 3: Check for Premier League data\n",
    "pl_data = competitions[competitions['competition_name'] == 'Premier League']\n",
    "print(f\"\\n⚽ Premier League seasons available: {len(pl_data)}\")\n",
    "if len(pl_data) > 0:\n",
    "    print(\"Premier League seasons found:\")\n",
    "    print(pl_data[['season_name', 'competition_id', 'season_id']])"
   ]
  },
  {
   "cell_type": "markdown",
   "id": "6bcc6184",
   "metadata": {},
   "source": [
    "Load the competitions table and filter by Premier League 2015/16:"
   ]
  },
  {
   "cell_type": "code",
   "execution_count": 19,
   "id": "87b4767f",
   "metadata": {},
   "outputs": [
    {
     "name": "stdout",
     "output_type": "stream",
     "text": [
      "    competition_id  season_id\n",
      "64               2         27\n"
     ]
    }
   ],
   "source": [
    "# List competitions\n",
    "competitions = sb.competitions()\n",
    "pl_2015 = competitions[(competitions['competition_name'] == 'Premier League') & \n",
    "                       (competitions['season_name'] == '2015/2016')]\n",
    "print(pl_2015[['competition_id', 'season_id']])\n"
   ]
  },
  {
   "cell_type": "markdown",
   "id": "1becccf5",
   "metadata": {},
   "source": [
    "Download all matches for the 2015/16 season:"
   ]
  },
  {
   "cell_type": "code",
   "execution_count": 11,
   "id": "910606e5",
   "metadata": {},
   "outputs": [
    {
     "name": "stdout",
     "output_type": "stream",
     "text": [
      "Total matches: 380\n",
      "   match_id             home_team        away_team  match_date\n",
      "0   3754058        Leicester City  AFC Bournemouth  2016-01-02\n",
      "1   3754245  West Bromwich Albion       Sunderland  2015-10-17\n",
      "2   3754136      Newcastle United      Aston Villa  2015-12-19\n",
      "3   3754037               Everton  AFC Bournemouth  2016-04-30\n",
      "4   3754039        Crystal Palace          Watford  2016-02-13\n"
     ]
    }
   ],
   "source": [
    "competition_id = int(pl_2015['competition_id'].values[0])\n",
    "season_id = int(pl_2015['season_id'].values[0])\n",
    "\n",
    "matches = sb.matches(competition_id=competition_id, season_id=season_id)\n",
    "print(f\"Total matches: {len(matches)}\")\n",
    "display_columns = ['match_id', 'home_team', 'away_team', 'match_date']\n",
    "print(matches[display_columns].head())\n"
   ]
  },
  {
   "cell_type": "code",
   "execution_count": 21,
   "id": "b23ec7a1",
   "metadata": {},
   "outputs": [
    {
     "data": {
      "text/html": [
       "<div>\n",
       "<style scoped>\n",
       "    .dataframe tbody tr th:only-of-type {\n",
       "        vertical-align: middle;\n",
       "    }\n",
       "\n",
       "    .dataframe tbody tr th {\n",
       "        vertical-align: top;\n",
       "    }\n",
       "\n",
       "    .dataframe thead th {\n",
       "        text-align: right;\n",
       "    }\n",
       "</style>\n",
       "<table border=\"1\" class=\"dataframe\">\n",
       "  <thead>\n",
       "    <tr style=\"text-align: right;\">\n",
       "      <th></th>\n",
       "      <th>match_id</th>\n",
       "      <th>match_date</th>\n",
       "      <th>kick_off</th>\n",
       "      <th>competition</th>\n",
       "      <th>season</th>\n",
       "      <th>home_team</th>\n",
       "      <th>away_team</th>\n",
       "      <th>home_score</th>\n",
       "      <th>away_score</th>\n",
       "      <th>match_status</th>\n",
       "      <th>...</th>\n",
       "      <th>last_updated_360</th>\n",
       "      <th>match_week</th>\n",
       "      <th>competition_stage</th>\n",
       "      <th>stadium</th>\n",
       "      <th>referee</th>\n",
       "      <th>home_managers</th>\n",
       "      <th>away_managers</th>\n",
       "      <th>data_version</th>\n",
       "      <th>shot_fidelity_version</th>\n",
       "      <th>xy_fidelity_version</th>\n",
       "    </tr>\n",
       "  </thead>\n",
       "  <tbody>\n",
       "    <tr>\n",
       "      <th>0</th>\n",
       "      <td>3754058</td>\n",
       "      <td>2016-01-02</td>\n",
       "      <td>16:00:00.000</td>\n",
       "      <td>England - Premier League</td>\n",
       "      <td>2015/2016</td>\n",
       "      <td>Leicester City</td>\n",
       "      <td>AFC Bournemouth</td>\n",
       "      <td>0</td>\n",
       "      <td>0</td>\n",
       "      <td>available</td>\n",
       "      <td>...</td>\n",
       "      <td>2021-06-12T16:17:31.694</td>\n",
       "      <td>20</td>\n",
       "      <td>Regular Season</td>\n",
       "      <td>King Power Stadium</td>\n",
       "      <td>Andre Marriner</td>\n",
       "      <td>Claudio Ranieri</td>\n",
       "      <td>Eddie Howe</td>\n",
       "      <td>1.1.0</td>\n",
       "      <td>2</td>\n",
       "      <td>2</td>\n",
       "    </tr>\n",
       "    <tr>\n",
       "      <th>1</th>\n",
       "      <td>3754245</td>\n",
       "      <td>2015-10-17</td>\n",
       "      <td>16:00:00.000</td>\n",
       "      <td>England - Premier League</td>\n",
       "      <td>2015/2016</td>\n",
       "      <td>West Bromwich Albion</td>\n",
       "      <td>Sunderland</td>\n",
       "      <td>1</td>\n",
       "      <td>0</td>\n",
       "      <td>available</td>\n",
       "      <td>...</td>\n",
       "      <td>2021-06-13T16:17:31.694</td>\n",
       "      <td>9</td>\n",
       "      <td>Regular Season</td>\n",
       "      <td>The Hawthorns</td>\n",
       "      <td>Martin Atkinson</td>\n",
       "      <td>Tony Pulis</td>\n",
       "      <td>Sam Allardyce</td>\n",
       "      <td>1.1.0</td>\n",
       "      <td>2</td>\n",
       "      <td>2</td>\n",
       "    </tr>\n",
       "    <tr>\n",
       "      <th>2</th>\n",
       "      <td>3754136</td>\n",
       "      <td>2015-12-19</td>\n",
       "      <td>18:30:00.000</td>\n",
       "      <td>England - Premier League</td>\n",
       "      <td>2015/2016</td>\n",
       "      <td>Newcastle United</td>\n",
       "      <td>Aston Villa</td>\n",
       "      <td>1</td>\n",
       "      <td>1</td>\n",
       "      <td>available</td>\n",
       "      <td>...</td>\n",
       "      <td>2021-06-13T16:17:31.694</td>\n",
       "      <td>17</td>\n",
       "      <td>Regular Season</td>\n",
       "      <td>St. James'' Park</td>\n",
       "      <td>Martin Atkinson</td>\n",
       "      <td>Steve McClaren</td>\n",
       "      <td>Rémi Garde</td>\n",
       "      <td>1.1.0</td>\n",
       "      <td>2</td>\n",
       "      <td>2</td>\n",
       "    </tr>\n",
       "    <tr>\n",
       "      <th>3</th>\n",
       "      <td>3754037</td>\n",
       "      <td>2016-04-30</td>\n",
       "      <td>16:00:00.000</td>\n",
       "      <td>England - Premier League</td>\n",
       "      <td>2015/2016</td>\n",
       "      <td>Everton</td>\n",
       "      <td>AFC Bournemouth</td>\n",
       "      <td>2</td>\n",
       "      <td>1</td>\n",
       "      <td>available</td>\n",
       "      <td>...</td>\n",
       "      <td>2021-06-12T16:17:31.694</td>\n",
       "      <td>36</td>\n",
       "      <td>Regular Season</td>\n",
       "      <td>Goodison Park</td>\n",
       "      <td>Neil Swarbrick</td>\n",
       "      <td>Roberto Martínez Montoliú</td>\n",
       "      <td>Eddie Howe</td>\n",
       "      <td>1.1.0</td>\n",
       "      <td>2</td>\n",
       "      <td>2</td>\n",
       "    </tr>\n",
       "    <tr>\n",
       "      <th>4</th>\n",
       "      <td>3754039</td>\n",
       "      <td>2016-02-13</td>\n",
       "      <td>16:00:00.000</td>\n",
       "      <td>England - Premier League</td>\n",
       "      <td>2015/2016</td>\n",
       "      <td>Crystal Palace</td>\n",
       "      <td>Watford</td>\n",
       "      <td>1</td>\n",
       "      <td>2</td>\n",
       "      <td>available</td>\n",
       "      <td>...</td>\n",
       "      <td>2021-06-12T16:17:31.694</td>\n",
       "      <td>26</td>\n",
       "      <td>Regular Season</td>\n",
       "      <td>Selhurst Park</td>\n",
       "      <td>Robert Madley</td>\n",
       "      <td>Alan Pardew</td>\n",
       "      <td>Enrique Sánchez Flores</td>\n",
       "      <td>1.1.0</td>\n",
       "      <td>2</td>\n",
       "      <td>2</td>\n",
       "    </tr>\n",
       "    <tr>\n",
       "      <th>...</th>\n",
       "      <td>...</td>\n",
       "      <td>...</td>\n",
       "      <td>...</td>\n",
       "      <td>...</td>\n",
       "      <td>...</td>\n",
       "      <td>...</td>\n",
       "      <td>...</td>\n",
       "      <td>...</td>\n",
       "      <td>...</td>\n",
       "      <td>...</td>\n",
       "      <td>...</td>\n",
       "      <td>...</td>\n",
       "      <td>...</td>\n",
       "      <td>...</td>\n",
       "      <td>...</td>\n",
       "      <td>...</td>\n",
       "      <td>...</td>\n",
       "      <td>...</td>\n",
       "      <td>...</td>\n",
       "      <td>...</td>\n",
       "      <td>...</td>\n",
       "    </tr>\n",
       "    <tr>\n",
       "      <th>375</th>\n",
       "      <td>3754020</td>\n",
       "      <td>2015-08-17</td>\n",
       "      <td>21:00:00.000</td>\n",
       "      <td>England - Premier League</td>\n",
       "      <td>2015/2016</td>\n",
       "      <td>Liverpool</td>\n",
       "      <td>AFC Bournemouth</td>\n",
       "      <td>1</td>\n",
       "      <td>0</td>\n",
       "      <td>available</td>\n",
       "      <td>...</td>\n",
       "      <td>2021-06-13T16:17:31.694</td>\n",
       "      <td>2</td>\n",
       "      <td>Regular Season</td>\n",
       "      <td>Anfield</td>\n",
       "      <td>Craig Pawson</td>\n",
       "      <td>Brendan Rodgers</td>\n",
       "      <td>Eddie Howe</td>\n",
       "      <td>1.1.0</td>\n",
       "      <td>2</td>\n",
       "      <td>2</td>\n",
       "    </tr>\n",
       "    <tr>\n",
       "      <th>376</th>\n",
       "      <td>3754267</td>\n",
       "      <td>2015-08-15</td>\n",
       "      <td>16:00:00.000</td>\n",
       "      <td>England - Premier League</td>\n",
       "      <td>2015/2016</td>\n",
       "      <td>Watford</td>\n",
       "      <td>West Bromwich Albion</td>\n",
       "      <td>0</td>\n",
       "      <td>0</td>\n",
       "      <td>available</td>\n",
       "      <td>...</td>\n",
       "      <td>2021-06-13T16:17:31.694</td>\n",
       "      <td>2</td>\n",
       "      <td>Regular Season</td>\n",
       "      <td>Vicarage Road</td>\n",
       "      <td>Paul Tierney</td>\n",
       "      <td>Enrique Sánchez Flores</td>\n",
       "      <td>Tony Pulis</td>\n",
       "      <td>1.1.0</td>\n",
       "      <td>2</td>\n",
       "      <td>2</td>\n",
       "    </tr>\n",
       "    <tr>\n",
       "      <th>377</th>\n",
       "      <td>3754141</td>\n",
       "      <td>2015-08-09</td>\n",
       "      <td>14:30:00.000</td>\n",
       "      <td>England - Premier League</td>\n",
       "      <td>2015/2016</td>\n",
       "      <td>Arsenal</td>\n",
       "      <td>West Ham United</td>\n",
       "      <td>0</td>\n",
       "      <td>2</td>\n",
       "      <td>available</td>\n",
       "      <td>...</td>\n",
       "      <td>2021-06-13T16:17:31.694</td>\n",
       "      <td>1</td>\n",
       "      <td>Regular Season</td>\n",
       "      <td>Emirates Stadium</td>\n",
       "      <td>Martin Atkinson</td>\n",
       "      <td>Arsène Wenger</td>\n",
       "      <td>Slaven Bilić</td>\n",
       "      <td>1.1.0</td>\n",
       "      <td>2</td>\n",
       "      <td>2</td>\n",
       "    </tr>\n",
       "    <tr>\n",
       "      <th>378</th>\n",
       "      <td>3754128</td>\n",
       "      <td>2015-08-08</td>\n",
       "      <td>16:00:00.000</td>\n",
       "      <td>England - Premier League</td>\n",
       "      <td>2015/2016</td>\n",
       "      <td>AFC Bournemouth</td>\n",
       "      <td>Aston Villa</td>\n",
       "      <td>0</td>\n",
       "      <td>1</td>\n",
       "      <td>available</td>\n",
       "      <td>...</td>\n",
       "      <td>2021-06-13T16:17:31.694</td>\n",
       "      <td>1</td>\n",
       "      <td>Regular Season</td>\n",
       "      <td>Vitality Stadium</td>\n",
       "      <td>Mark Clattenburg</td>\n",
       "      <td>Eddie Howe</td>\n",
       "      <td>Tim Sherwood</td>\n",
       "      <td>1.1.0</td>\n",
       "      <td>2</td>\n",
       "      <td>2</td>\n",
       "    </tr>\n",
       "    <tr>\n",
       "      <th>379</th>\n",
       "      <td>3754078</td>\n",
       "      <td>2015-08-08</td>\n",
       "      <td>18:30:00.000</td>\n",
       "      <td>England - Premier League</td>\n",
       "      <td>2015/2016</td>\n",
       "      <td>Chelsea</td>\n",
       "      <td>Swansea City</td>\n",
       "      <td>2</td>\n",
       "      <td>2</td>\n",
       "      <td>available</td>\n",
       "      <td>...</td>\n",
       "      <td>2021-06-13T16:17:31.694</td>\n",
       "      <td>1</td>\n",
       "      <td>Regular Season</td>\n",
       "      <td>Stamford Bridge</td>\n",
       "      <td>Michael Oliver</td>\n",
       "      <td>José Mario Felix dos Santos Mourinho</td>\n",
       "      <td>Garry Monk</td>\n",
       "      <td>1.1.0</td>\n",
       "      <td>2</td>\n",
       "      <td>2</td>\n",
       "    </tr>\n",
       "  </tbody>\n",
       "</table>\n",
       "<p>380 rows × 22 columns</p>\n",
       "</div>"
      ],
      "text/plain": [
       "     match_id  match_date      kick_off               competition     season  \\\n",
       "0     3754058  2016-01-02  16:00:00.000  England - Premier League  2015/2016   \n",
       "1     3754245  2015-10-17  16:00:00.000  England - Premier League  2015/2016   \n",
       "2     3754136  2015-12-19  18:30:00.000  England - Premier League  2015/2016   \n",
       "3     3754037  2016-04-30  16:00:00.000  England - Premier League  2015/2016   \n",
       "4     3754039  2016-02-13  16:00:00.000  England - Premier League  2015/2016   \n",
       "..        ...         ...           ...                       ...        ...   \n",
       "375   3754020  2015-08-17  21:00:00.000  England - Premier League  2015/2016   \n",
       "376   3754267  2015-08-15  16:00:00.000  England - Premier League  2015/2016   \n",
       "377   3754141  2015-08-09  14:30:00.000  England - Premier League  2015/2016   \n",
       "378   3754128  2015-08-08  16:00:00.000  England - Premier League  2015/2016   \n",
       "379   3754078  2015-08-08  18:30:00.000  England - Premier League  2015/2016   \n",
       "\n",
       "                home_team             away_team  home_score  away_score  \\\n",
       "0          Leicester City       AFC Bournemouth           0           0   \n",
       "1    West Bromwich Albion            Sunderland           1           0   \n",
       "2        Newcastle United           Aston Villa           1           1   \n",
       "3                 Everton       AFC Bournemouth           2           1   \n",
       "4          Crystal Palace               Watford           1           2   \n",
       "..                    ...                   ...         ...         ...   \n",
       "375             Liverpool       AFC Bournemouth           1           0   \n",
       "376               Watford  West Bromwich Albion           0           0   \n",
       "377               Arsenal       West Ham United           0           2   \n",
       "378       AFC Bournemouth           Aston Villa           0           1   \n",
       "379               Chelsea          Swansea City           2           2   \n",
       "\n",
       "    match_status  ...         last_updated_360 match_week competition_stage  \\\n",
       "0      available  ...  2021-06-12T16:17:31.694         20    Regular Season   \n",
       "1      available  ...  2021-06-13T16:17:31.694          9    Regular Season   \n",
       "2      available  ...  2021-06-13T16:17:31.694         17    Regular Season   \n",
       "3      available  ...  2021-06-12T16:17:31.694         36    Regular Season   \n",
       "4      available  ...  2021-06-12T16:17:31.694         26    Regular Season   \n",
       "..           ...  ...                      ...        ...               ...   \n",
       "375    available  ...  2021-06-13T16:17:31.694          2    Regular Season   \n",
       "376    available  ...  2021-06-13T16:17:31.694          2    Regular Season   \n",
       "377    available  ...  2021-06-13T16:17:31.694          1    Regular Season   \n",
       "378    available  ...  2021-06-13T16:17:31.694          1    Regular Season   \n",
       "379    available  ...  2021-06-13T16:17:31.694          1    Regular Season   \n",
       "\n",
       "                 stadium           referee  \\\n",
       "0    King Power Stadium     Andre Marriner   \n",
       "1          The Hawthorns   Martin Atkinson   \n",
       "2       St. James'' Park   Martin Atkinson   \n",
       "3          Goodison Park    Neil Swarbrick   \n",
       "4          Selhurst Park     Robert Madley   \n",
       "..                   ...               ...   \n",
       "375             Anfield       Craig Pawson   \n",
       "376        Vicarage Road      Paul Tierney   \n",
       "377     Emirates Stadium   Martin Atkinson   \n",
       "378     Vitality Stadium  Mark Clattenburg   \n",
       "379      Stamford Bridge    Michael Oliver   \n",
       "\n",
       "                            home_managers           away_managers  \\\n",
       "0                         Claudio Ranieri              Eddie Howe   \n",
       "1                              Tony Pulis           Sam Allardyce   \n",
       "2                          Steve McClaren              Rémi Garde   \n",
       "3               Roberto Martínez Montoliú              Eddie Howe   \n",
       "4                             Alan Pardew  Enrique Sánchez Flores   \n",
       "..                                    ...                     ...   \n",
       "375                       Brendan Rodgers              Eddie Howe   \n",
       "376                Enrique Sánchez Flores              Tony Pulis   \n",
       "377                         Arsène Wenger            Slaven Bilić   \n",
       "378                            Eddie Howe            Tim Sherwood   \n",
       "379  José Mario Felix dos Santos Mourinho              Garry Monk   \n",
       "\n",
       "    data_version shot_fidelity_version xy_fidelity_version  \n",
       "0          1.1.0                     2                   2  \n",
       "1          1.1.0                     2                   2  \n",
       "2          1.1.0                     2                   2  \n",
       "3          1.1.0                     2                   2  \n",
       "4          1.1.0                     2                   2  \n",
       "..           ...                   ...                 ...  \n",
       "375        1.1.0                     2                   2  \n",
       "376        1.1.0                     2                   2  \n",
       "377        1.1.0                     2                   2  \n",
       "378        1.1.0                     2                   2  \n",
       "379        1.1.0                     2                   2  \n",
       "\n",
       "[380 rows x 22 columns]"
      ]
     },
     "execution_count": 21,
     "metadata": {},
     "output_type": "execute_result"
    }
   ],
   "source": [
    "matches"
   ]
  },
  {
   "cell_type": "code",
   "execution_count": 22,
   "id": "dfb9cc86",
   "metadata": {},
   "outputs": [
    {
     "name": "stdout",
     "output_type": "stream",
     "text": [
      "  ball_receipt_outcome ball_recovery_recovery_failure carry_end_location  \\\n",
      "0                  NaN                            NaN                NaN   \n",
      "1                  NaN                            NaN                NaN   \n",
      "2                  NaN                            NaN                NaN   \n",
      "3                  NaN                            NaN                NaN   \n",
      "4                  NaN                            NaN                NaN   \n",
      "\n",
      "  clearance_aerial_won clearance_body_part clearance_head clearance_left_foot  \\\n",
      "0                  NaN                 NaN            NaN                 NaN   \n",
      "1                  NaN                 NaN            NaN                 NaN   \n",
      "2                  NaN                 NaN            NaN                 NaN   \n",
      "3                  NaN                 NaN            NaN                 NaN   \n",
      "4                  NaN                 NaN            NaN                 NaN   \n",
      "\n",
      "  clearance_right_foot counterpress dribble_nutmeg  ... substitution_outcome  \\\n",
      "0                  NaN          NaN            NaN  ...                  NaN   \n",
      "1                  NaN          NaN            NaN  ...                  NaN   \n",
      "2                  NaN          NaN            NaN  ...                  NaN   \n",
      "3                  NaN          NaN            NaN  ...                  NaN   \n",
      "4                  NaN          NaN            NaN  ...                  NaN   \n",
      "\n",
      "  substitution_outcome_id substitution_replacement  \\\n",
      "0                     NaN                      NaN   \n",
      "1                     NaN                      NaN   \n",
      "2                     NaN                      NaN   \n",
      "3                     NaN                      NaN   \n",
      "4                     NaN                      NaN   \n",
      "\n",
      "  substitution_replacement_id  \\\n",
      "0                         NaN   \n",
      "1                         NaN   \n",
      "2                         NaN   \n",
      "3                         NaN   \n",
      "4                         NaN   \n",
      "\n",
      "                                             tactics             team team_id  \\\n",
      "0  {'formation': 442, 'lineup': [{'player': {'id'...   Leicester City      22   \n",
      "1  {'formation': 4141, 'lineup': [{'player': {'id...  AFC Bournemouth      28   \n",
      "2                                                NaN  AFC Bournemouth      28   \n",
      "3                                                NaN   Leicester City      22   \n",
      "4                                                NaN  AFC Bournemouth      28   \n",
      "\n",
      "      timestamp         type under_pressure  \n",
      "0  00:00:00.000  Starting XI            NaN  \n",
      "1  00:00:00.000  Starting XI            NaN  \n",
      "2  00:00:00.000   Half Start            NaN  \n",
      "3  00:00:00.000   Half Start            NaN  \n",
      "4  00:00:00.000   Half Start            NaN  \n",
      "\n",
      "[5 rows x 90 columns]\n",
      "Index(['ball_receipt_outcome', 'ball_recovery_recovery_failure',\n",
      "       'carry_end_location', 'clearance_aerial_won', 'clearance_body_part',\n",
      "       'clearance_head', 'clearance_left_foot', 'clearance_right_foot',\n",
      "       'counterpress', 'dribble_nutmeg', 'dribble_outcome', 'dribble_overrun',\n",
      "       'duel_outcome', 'duel_type', 'duration', 'foul_committed_advantage',\n",
      "       'foul_committed_card', 'foul_committed_offensive',\n",
      "       'foul_committed_penalty', 'foul_committed_type', 'foul_won_advantage',\n",
      "       'foul_won_defensive', 'foul_won_penalty', 'goalkeeper_body_part',\n",
      "       'goalkeeper_end_location', 'goalkeeper_outcome', 'goalkeeper_position',\n",
      "       'goalkeeper_punched_out', 'goalkeeper_technique', 'goalkeeper_type',\n",
      "       'id', 'index', 'interception_outcome', 'location', 'match_id', 'minute',\n",
      "       'miscontrol_aerial_won', 'off_camera', 'out', 'pass_aerial_won',\n",
      "       'pass_angle', 'pass_assisted_shot_id', 'pass_body_part', 'pass_cross',\n",
      "       'pass_cut_back', 'pass_deflected', 'pass_end_location', 'pass_height',\n",
      "       'pass_inswinging', 'pass_length', 'pass_outcome', 'pass_outswinging',\n",
      "       'pass_recipient', 'pass_recipient_id', 'pass_shot_assist',\n",
      "       'pass_switch', 'pass_technique', 'pass_through_ball', 'pass_type',\n",
      "       'period', 'play_pattern', 'player', 'player_id', 'position',\n",
      "       'possession', 'possession_team', 'possession_team_id', 'related_events',\n",
      "       'second', 'shot_aerial_won', 'shot_body_part', 'shot_end_location',\n",
      "       'shot_first_time', 'shot_freeze_frame', 'shot_key_pass_id',\n",
      "       'shot_one_on_one', 'shot_outcome', 'shot_statsbomb_xg',\n",
      "       'shot_technique', 'shot_type', 'substitution_outcome',\n",
      "       'substitution_outcome_id', 'substitution_replacement',\n",
      "       'substitution_replacement_id', 'tactics', 'team', 'team_id',\n",
      "       'timestamp', 'type', 'under_pressure'],\n",
      "      dtype='object')\n"
     ]
    }
   ],
   "source": [
    "example_match_id = matches.iloc[0]['match_id']\n",
    "events = sb.events(match_id=example_match_id)\n",
    "print(events.head())\n",
    "print(events.columns)\n"
   ]
  },
  {
   "cell_type": "markdown",
   "id": "cb2b7bc4",
   "metadata": {},
   "source": [
    "Use the first match for analysis"
   ]
  },
  {
   "cell_type": "code",
   "execution_count": 25,
   "id": "66b971af",
   "metadata": {},
   "outputs": [],
   "source": [
    "events.to_csv('C:/Users/User/Downloads/xg-football-analysis/data/raw/events_example.csv', index=False)\n"
   ]
  },
  {
   "cell_type": "code",
   "execution_count": 30,
   "id": "234e42f2",
   "metadata": {},
   "outputs": [
    {
     "name": "stdout",
     "output_type": "stream",
     "text": [
      "      minute  second               player             team       location  \\\n",
      "3149       1      33     Junior Stanislas  AFC Bournemouth  [107.1, 26.6]   \n",
      "3150       4      23          Joshua King  AFC Bournemouth  [113.7, 54.0]   \n",
      "3151       9      20         Riyad Mahrez   Leicester City  [115.7, 50.5]   \n",
      "3152      13      11          Joshua King  AFC Bournemouth  [113.9, 38.6]   \n",
      "3153      25      47  José Leonardo Ulloa   Leicester City   [96.7, 47.2]   \n",
      "\n",
      "     shot_outcome  \n",
      "3149      Blocked  \n",
      "3150      Blocked  \n",
      "3151        Off T  \n",
      "3152        Off T  \n",
      "3153      Wayward  \n"
     ]
    }
   ],
   "source": [
    "shots = events[events['type'] == 'Shot']\n",
    "print(shots[['minute', 'second', 'player', 'team', 'location', 'shot_outcome']].head())\n"
   ]
  },
  {
   "cell_type": "code",
   "execution_count": 31,
   "id": "9c368d5c",
   "metadata": {},
   "outputs": [
    {
     "data": {
      "text/plain": [
       "3149    Blocked\n",
       "3150    Blocked\n",
       "3151      Off T\n",
       "3152      Off T\n",
       "3153    Wayward\n",
       "3154       Post\n",
       "3155      Off T\n",
       "3156      Off T\n",
       "3157      Off T\n",
       "3158    Wayward\n",
       "3159      Saved\n",
       "3160      Off T\n",
       "3161      Saved\n",
       "3162    Blocked\n",
       "3163    Blocked\n",
       "3164    Blocked\n",
       "3165      Off T\n",
       "3166      Saved\n",
       "3167      Off T\n",
       "3168      Off T\n",
       "3169      Off T\n",
       "3170    Blocked\n",
       "3171      Off T\n",
       "3172    Blocked\n",
       "3173      Off T\n",
       "3174    Blocked\n",
       "3175      Off T\n",
       "Name: shot_outcome, dtype: object"
      ]
     },
     "execution_count": 31,
     "metadata": {},
     "output_type": "execute_result"
    }
   ],
   "source": [
    "shots['shot_outcome']"
   ]
  },
  {
   "cell_type": "code",
   "execution_count": 34,
   "id": "22b25e22",
   "metadata": {},
   "outputs": [
    {
     "data": {
      "text/plain": [
       "3149    0\n",
       "3150    0\n",
       "3151    0\n",
       "3152    0\n",
       "3153    0\n",
       "3154    0\n",
       "3155    0\n",
       "3156    0\n",
       "3157    0\n",
       "3158    0\n",
       "3159    0\n",
       "3160    0\n",
       "3161    0\n",
       "3162    0\n",
       "3163    0\n",
       "3164    0\n",
       "3165    0\n",
       "3166    0\n",
       "3167    0\n",
       "3168    0\n",
       "3169    0\n",
       "3170    0\n",
       "3171    0\n",
       "3172    0\n",
       "3173    0\n",
       "3174    0\n",
       "3175    0\n",
       "Name: goal, dtype: int32"
      ]
     },
     "execution_count": 34,
     "metadata": {},
     "output_type": "execute_result"
    }
   ],
   "source": [
    "shots['goal'] = (shots['shot_outcome'] == 'Goal').astype(int)\n",
    "shots['goal']"
   ]
  },
  {
   "cell_type": "code",
   "execution_count": 36,
   "id": "d1178c25",
   "metadata": {},
   "outputs": [],
   "source": [
    "all_shots = []\n",
    "\n",
    "for i, row in matches.iterrows():\n",
    "    match_id = row['match_id']\n",
    "    events = sb.events(match_id=match_id)\n",
    "    shots = events[events['type'] == 'Shot'].copy()\n",
    "    shots['goal'] = (shots['shot_outcome'] == 'Goal').astype(int)\n",
    "    all_shots.append(shots)\n",
    "\n",
    "shots_df = pd.concat(all_shots, ignore_index=True)\n"
   ]
  },
  {
   "cell_type": "code",
   "execution_count": 39,
   "id": "38046ac5",
   "metadata": {},
   "outputs": [
    {
     "name": "stdout",
     "output_type": "stream",
     "text": [
      "(9908, 119)\n"
     ]
    }
   ],
   "source": [
    "print(shots_df.shape)"
   ]
  },
  {
   "cell_type": "code",
   "execution_count": 40,
   "id": "c385b226",
   "metadata": {},
   "outputs": [
    {
     "data": {
      "text/plain": [
       "988"
      ]
     },
     "execution_count": 40,
     "metadata": {},
     "output_type": "execute_result"
    }
   ],
   "source": [
    "shots_df['goal'].sum()"
   ]
  },
  {
   "cell_type": "markdown",
   "id": "0e456e4c",
   "metadata": {},
   "source": [
    "A. Engineer Shot Location Features\n",
    "1. Extract coordinates"
   ]
  },
  {
   "cell_type": "code",
   "execution_count": 41,
   "id": "e7ae61b9",
   "metadata": {},
   "outputs": [],
   "source": [
    "shots_df['x'] = shots_df['location'].apply(lambda loc: loc[0] if isinstance(loc, list) else None)\n",
    "shots_df['y'] = shots_df['location'].apply(lambda loc: loc[1] if isinstance(loc, list) else None)\n"
   ]
  },
  {
   "cell_type": "markdown",
   "id": "f3dc796b",
   "metadata": {},
   "source": [
    "2. Calculate distance to center of goal"
   ]
  },
  {
   "cell_type": "code",
   "execution_count": 43,
   "id": "19eca784",
   "metadata": {},
   "outputs": [],
   "source": [
    "import numpy as np\n",
    "shots_df['distance'] = np.sqrt((120 - shots_df['x']) ** 2 + (40 - shots_df['y']) ** 2)\n"
   ]
  },
  {
   "cell_type": "code",
   "execution_count": 44,
   "id": "fbbebd06",
   "metadata": {},
   "outputs": [],
   "source": [
    "shots_df['angle'] = np.arctan2(abs(shots_df['y'] - 40), 120 - shots_df['x'])"
   ]
  },
  {
   "cell_type": "code",
   "execution_count": 50,
   "id": "c0dc1ecc",
   "metadata": {},
   "outputs": [
    {
     "data": {
      "text/plain": [
       "0       0.804407\n",
       "1       1.147942\n",
       "2       1.182107\n",
       "3       0.225601\n",
       "4       0.299705\n",
       "          ...   \n",
       "9903    0.752235\n",
       "9904    1.128422\n",
       "9905    0.661681\n",
       "9906    0.813800\n",
       "9907    0.128639\n",
       "Name: angle, Length: 9908, dtype: float64"
      ]
     },
     "execution_count": 50,
     "metadata": {},
     "output_type": "execute_result"
    }
   ],
   "source": [
    "shots_df['angle']"
   ]
  },
  {
   "cell_type": "code",
   "execution_count": 51,
   "id": "594c6997",
   "metadata": {},
   "outputs": [
    {
     "name": "stdout",
     "output_type": "stream",
     "text": [
      "Index(['ball_receipt_outcome', 'ball_recovery_recovery_failure',\n",
      "       'carry_end_location', 'clearance_aerial_won', 'clearance_body_part',\n",
      "       'clearance_head', 'clearance_left_foot', 'clearance_right_foot',\n",
      "       'counterpress', 'dribble_nutmeg',\n",
      "       ...\n",
      "       'shot_follows_dribble', 'goalkeeper_lost_out',\n",
      "       'half_start_late_video_start', 'goalkeeper_lost_in_play',\n",
      "       'goalkeeper_penalty_saved_to_post', 'goalkeeper_saved_to_post', 'x',\n",
      "       'y', 'distance', 'angle'],\n",
      "      dtype='object', length=123)\n"
     ]
    }
   ],
   "source": [
    "print(shots_df.columns)"
   ]
  },
  {
   "cell_type": "code",
   "execution_count": 52,
   "id": "d401204a",
   "metadata": {},
   "outputs": [
    {
     "name": "stdout",
     "output_type": "stream",
     "text": [
      "['ball_receipt_outcome', 'ball_recovery_recovery_failure', 'carry_end_location', 'clearance_aerial_won', 'clearance_body_part', 'clearance_head', 'clearance_left_foot', 'clearance_right_foot', 'counterpress', 'dribble_nutmeg', 'dribble_outcome', 'dribble_overrun', 'duel_outcome', 'duel_type', 'foul_committed_advantage', 'foul_committed_card', 'foul_committed_offensive', 'foul_committed_penalty', 'foul_committed_type', 'foul_won_advantage', 'foul_won_defensive', 'foul_won_penalty', 'goalkeeper_body_part', 'goalkeeper_end_location', 'goalkeeper_outcome', 'goalkeeper_position', 'goalkeeper_punched_out', 'goalkeeper_technique', 'goalkeeper_type', 'id', 'interception_outcome', 'location', 'miscontrol_aerial_won', 'off_camera', 'out', 'pass_aerial_won', 'pass_assisted_shot_id', 'pass_body_part', 'pass_cross', 'pass_cut_back', 'pass_deflected', 'pass_end_location', 'pass_height', 'pass_inswinging', 'pass_outcome', 'pass_outswinging', 'pass_recipient', 'pass_shot_assist', 'pass_switch', 'pass_technique', 'pass_through_ball', 'pass_type', 'play_pattern', 'player', 'position', 'possession_team', 'related_events', 'shot_aerial_won', 'shot_body_part', 'shot_end_location', 'shot_first_time', 'shot_freeze_frame', 'shot_key_pass_id', 'shot_one_on_one', 'shot_outcome', 'shot_technique', 'shot_type', 'substitution_outcome', 'substitution_replacement', 'tactics', 'team', 'timestamp', 'type', 'under_pressure', '50_50', 'bad_behaviour_card', 'ball_recovery_offensive', 'block_offensive', 'goalkeeper_shot_saved_off_target', 'shot_open_goal', 'shot_saved_off_target', 'goalkeeper_shot_saved_to_post', 'injury_stoppage_in_chain', 'pass_goal_assist', 'pass_straight', 'pass_no_touch', 'clearance_other', 'pass_miscommunication', 'shot_saved_to_post', 'block_deflection', 'dribble_no_touch', 'shot_redirect', 'block_save_block', 'shot_deflected', 'player_off_permanent', 'goalkeeper_success_in_play', 'shot_follows_dribble', 'goalkeeper_lost_out', 'half_start_late_video_start', 'goalkeeper_lost_in_play', 'goalkeeper_penalty_saved_to_post', 'goalkeeper_saved_to_post']\n"
     ]
    }
   ],
   "source": [
    "print([col for col in shots_df.columns if shots_df[col].dtype == 'object'])"
   ]
  },
  {
   "cell_type": "code",
   "execution_count": 53,
   "id": "2e08b564",
   "metadata": {},
   "outputs": [],
   "source": [
    "# List of core features to include in your xG model\n",
    "selected_features = [\n",
    "    'distance',             # Engineered: distance to goal\n",
    "    'angle',                # Engineered: angle to goal\n",
    "    'shot_body_part',\n",
    "    'shot_type',\n",
    "    'shot_first_time',\n",
    "    'shot_one_on_one',\n",
    "    'shot_open_goal',\n",
    "    'shot_follows_dribble',\n",
    "    'shot_deflected',\n",
    "    'play_pattern',\n",
    "    'under_pressure'\n",
    "]\n",
    "\n",
    "# Always check they exist before subsetting!\n",
    "existing_features = [feat for feat in selected_features if feat in shots_df.columns]\n",
    "X = shots_df[existing_features].copy()\n"
   ]
  },
  {
   "cell_type": "code",
   "execution_count": 54,
   "id": "f8fe80f0",
   "metadata": {},
   "outputs": [
    {
     "name": "stdout",
     "output_type": "stream",
     "text": [
      "    distance     angle  shot_body_part_Left Foot  shot_body_part_Other  \\\n",
      "0  18.600269  0.804407                     False                 False   \n",
      "1  15.352199  1.147942                     False                 False   \n",
      "2  11.346365  1.182107                      True                 False   \n",
      "3   6.258594  0.225601                     False                 False   \n",
      "4  24.387087  0.299705                     False                 False   \n",
      "\n",
      "   shot_body_part_Right Foot  shot_type_Free Kick  shot_type_Open Play  \\\n",
      "0                       True                False                 True   \n",
      "1                       True                False                 True   \n",
      "2                      False                False                 True   \n",
      "3                      False                False                 True   \n",
      "4                       True                False                 True   \n",
      "\n",
      "   shot_type_Penalty  play_pattern_From Counter  play_pattern_From Free Kick  \\\n",
      "0              False                      False                        False   \n",
      "1              False                      False                        False   \n",
      "2              False                      False                        False   \n",
      "3              False                      False                        False   \n",
      "4              False                      False                         True   \n",
      "\n",
      "   play_pattern_From Goal Kick  play_pattern_From Keeper  \\\n",
      "0                        False                     False   \n",
      "1                        False                     False   \n",
      "2                        False                     False   \n",
      "3                        False                     False   \n",
      "4                        False                     False   \n",
      "\n",
      "   play_pattern_From Kick Off  play_pattern_From Throw In  play_pattern_Other  \\\n",
      "0                       False                       False               False   \n",
      "1                       False                       False               False   \n",
      "2                       False                       False               False   \n",
      "3                       False                        True               False   \n",
      "4                       False                       False               False   \n",
      "\n",
      "   play_pattern_Regular Play  \n",
      "0                       True  \n",
      "1                       True  \n",
      "2                       True  \n",
      "3                      False  \n",
      "4                      False  \n",
      "<class 'pandas.core.frame.DataFrame'>\n",
      "RangeIndex: 9908 entries, 0 to 9907\n",
      "Data columns (total 16 columns):\n",
      " #   Column                       Non-Null Count  Dtype  \n",
      "---  ------                       --------------  -----  \n",
      " 0   distance                     9908 non-null   float64\n",
      " 1   angle                        9908 non-null   float64\n",
      " 2   shot_body_part_Left Foot     9908 non-null   bool   \n",
      " 3   shot_body_part_Other         9908 non-null   bool   \n",
      " 4   shot_body_part_Right Foot    9908 non-null   bool   \n",
      " 5   shot_type_Free Kick          9908 non-null   bool   \n",
      " 6   shot_type_Open Play          9908 non-null   bool   \n",
      " 7   shot_type_Penalty            9908 non-null   bool   \n",
      " 8   play_pattern_From Counter    9908 non-null   bool   \n",
      " 9   play_pattern_From Free Kick  9908 non-null   bool   \n",
      " 10  play_pattern_From Goal Kick  9908 non-null   bool   \n",
      " 11  play_pattern_From Keeper     9908 non-null   bool   \n",
      " 12  play_pattern_From Kick Off   9908 non-null   bool   \n",
      " 13  play_pattern_From Throw In   9908 non-null   bool   \n",
      " 14  play_pattern_Other           9908 non-null   bool   \n",
      " 15  play_pattern_Regular Play    9908 non-null   bool   \n",
      "dtypes: bool(14), float64(2)\n",
      "memory usage: 290.4 KB\n",
      "None\n"
     ]
    }
   ],
   "source": [
    "import pandas as pd\n",
    "\n",
    "# Identify categorical columns (object type)\n",
    "categorical_cols = X.select_dtypes(include='object').columns.tolist()\n",
    "\n",
    "# Convert boolean columns to integers (if any are of type bool)\n",
    "for col in X.columns:\n",
    "    if X[col].dtype == 'bool':\n",
    "        X[col] = X[col].astype(int)\n",
    "\n",
    "# One-hot encode categorical columns\n",
    "X_encoded = pd.get_dummies(X, columns=categorical_cols, drop_first=True)\n",
    "\n",
    "# Final check: print sample and verify\n",
    "print(X_encoded.head())\n",
    "print(X_encoded.info())\n"
   ]
  },
  {
   "cell_type": "code",
   "execution_count": 69,
   "id": "a4f64b63",
   "metadata": {},
   "outputs": [],
   "source": [
    "X_final = pd.concat([X, X_encoded], axis=1)"
   ]
  },
  {
   "cell_type": "code",
   "execution_count": 70,
   "id": "68740bbe",
   "metadata": {},
   "outputs": [],
   "source": [
    "from sklearn.model_selection import train_test_split\n",
    "\n",
    "X = X_final\n",
    "y = shots_df['goal']\n",
    "\n",
    "X_train, X_test, y_train, y_test = train_test_split(\n",
    "    X, y, stratify=y, test_size=0.2, random_state=42\n",
    ")"
   ]
  },
  {
   "cell_type": "code",
   "execution_count": 71,
   "id": "37221a10",
   "metadata": {},
   "outputs": [
    {
     "data": {
      "text/html": [
       "<style>#sk-container-id-3 {color: black;}#sk-container-id-3 pre{padding: 0;}#sk-container-id-3 div.sk-toggleable {background-color: white;}#sk-container-id-3 label.sk-toggleable__label {cursor: pointer;display: block;width: 100%;margin-bottom: 0;padding: 0.3em;box-sizing: border-box;text-align: center;}#sk-container-id-3 label.sk-toggleable__label-arrow:before {content: \"▸\";float: left;margin-right: 0.25em;color: #696969;}#sk-container-id-3 label.sk-toggleable__label-arrow:hover:before {color: black;}#sk-container-id-3 div.sk-estimator:hover label.sk-toggleable__label-arrow:before {color: black;}#sk-container-id-3 div.sk-toggleable__content {max-height: 0;max-width: 0;overflow: hidden;text-align: left;background-color: #f0f8ff;}#sk-container-id-3 div.sk-toggleable__content pre {margin: 0.2em;color: black;border-radius: 0.25em;background-color: #f0f8ff;}#sk-container-id-3 input.sk-toggleable__control:checked~div.sk-toggleable__content {max-height: 200px;max-width: 100%;overflow: auto;}#sk-container-id-3 input.sk-toggleable__control:checked~label.sk-toggleable__label-arrow:before {content: \"▾\";}#sk-container-id-3 div.sk-estimator input.sk-toggleable__control:checked~label.sk-toggleable__label {background-color: #d4ebff;}#sk-container-id-3 div.sk-label input.sk-toggleable__control:checked~label.sk-toggleable__label {background-color: #d4ebff;}#sk-container-id-3 input.sk-hidden--visually {border: 0;clip: rect(1px 1px 1px 1px);clip: rect(1px, 1px, 1px, 1px);height: 1px;margin: -1px;overflow: hidden;padding: 0;position: absolute;width: 1px;}#sk-container-id-3 div.sk-estimator {font-family: monospace;background-color: #f0f8ff;border: 1px dotted black;border-radius: 0.25em;box-sizing: border-box;margin-bottom: 0.5em;}#sk-container-id-3 div.sk-estimator:hover {background-color: #d4ebff;}#sk-container-id-3 div.sk-parallel-item::after {content: \"\";width: 100%;border-bottom: 1px solid gray;flex-grow: 1;}#sk-container-id-3 div.sk-label:hover label.sk-toggleable__label {background-color: #d4ebff;}#sk-container-id-3 div.sk-serial::before {content: \"\";position: absolute;border-left: 1px solid gray;box-sizing: border-box;top: 0;bottom: 0;left: 50%;z-index: 0;}#sk-container-id-3 div.sk-serial {display: flex;flex-direction: column;align-items: center;background-color: white;padding-right: 0.2em;padding-left: 0.2em;position: relative;}#sk-container-id-3 div.sk-item {position: relative;z-index: 1;}#sk-container-id-3 div.sk-parallel {display: flex;align-items: stretch;justify-content: center;background-color: white;position: relative;}#sk-container-id-3 div.sk-item::before, #sk-container-id-3 div.sk-parallel-item::before {content: \"\";position: absolute;border-left: 1px solid gray;box-sizing: border-box;top: 0;bottom: 0;left: 50%;z-index: -1;}#sk-container-id-3 div.sk-parallel-item {display: flex;flex-direction: column;z-index: 1;position: relative;background-color: white;}#sk-container-id-3 div.sk-parallel-item:first-child::after {align-self: flex-end;width: 50%;}#sk-container-id-3 div.sk-parallel-item:last-child::after {align-self: flex-start;width: 50%;}#sk-container-id-3 div.sk-parallel-item:only-child::after {width: 0;}#sk-container-id-3 div.sk-dashed-wrapped {border: 1px dashed gray;margin: 0 0.4em 0.5em 0.4em;box-sizing: border-box;padding-bottom: 0.4em;background-color: white;}#sk-container-id-3 div.sk-label label {font-family: monospace;font-weight: bold;display: inline-block;line-height: 1.2em;}#sk-container-id-3 div.sk-label-container {text-align: center;}#sk-container-id-3 div.sk-container {/* jupyter's `normalize.less` sets `[hidden] { display: none; }` but bootstrap.min.css set `[hidden] { display: none !important; }` so we also need the `!important` here to be able to override the default hidden behavior on the sphinx rendered scikit-learn.org. See: https://github.com/scikit-learn/scikit-learn/issues/21755 */display: inline-block !important;position: relative;}#sk-container-id-3 div.sk-text-repr-fallback {display: none;}</style><div id=\"sk-container-id-3\" class=\"sk-top-container\"><div class=\"sk-text-repr-fallback\"><pre>LogisticRegression(max_iter=1000)</pre><b>In a Jupyter environment, please rerun this cell to show the HTML representation or trust the notebook. <br />On GitHub, the HTML representation is unable to render, please try loading this page with nbviewer.org.</b></div><div class=\"sk-container\" hidden><div class=\"sk-item\"><div class=\"sk-estimator sk-toggleable\"><input class=\"sk-toggleable__control sk-hidden--visually\" id=\"sk-estimator-id-3\" type=\"checkbox\" checked><label for=\"sk-estimator-id-3\" class=\"sk-toggleable__label sk-toggleable__label-arrow\">LogisticRegression</label><div class=\"sk-toggleable__content\"><pre>LogisticRegression(max_iter=1000)</pre></div></div></div></div></div>"
      ],
      "text/plain": [
       "LogisticRegression(max_iter=1000)"
      ]
     },
     "execution_count": 71,
     "metadata": {},
     "output_type": "execute_result"
    }
   ],
   "source": [
    "from sklearn.linear_model import LogisticRegression\n",
    "\n",
    "model = LogisticRegression(max_iter=1000)\n",
    "model.fit(X_train, y_train)"
   ]
  },
  {
   "cell_type": "code",
   "execution_count": 72,
   "id": "b335ee53",
   "metadata": {},
   "outputs": [
    {
     "name": "stdout",
     "output_type": "stream",
     "text": [
      "AUC Score: 0.779\n",
      "              precision    recall  f1-score   support\n",
      "\n",
      "           0     0.9096    0.9978    0.9516      1784\n",
      "           1     0.8400    0.1061    0.1883       198\n",
      "\n",
      "    accuracy                         0.9087      1982\n",
      "   macro avg     0.8748    0.5519    0.5700      1982\n",
      "weighted avg     0.9026    0.9087    0.8754      1982\n",
      "\n",
      "Accuracy: 0.9087\n"
     ]
    }
   ],
   "source": [
    "from sklearn.metrics import roc_auc_score, classification_report, accuracy_score\n",
    "\n",
    "y_pred_proba = model.predict_proba(X_test)[:, 1]\n",
    "y_pred = model.predict(X_test)\n",
    "\n",
    "auc = roc_auc_score(y_test, y_pred_proba)\n",
    "print(f\"AUC Score: {auc:.3f}\")\n",
    "print(classification_report(y_test, y_pred, digits=4))\n",
    "print(f\"Accuracy: {accuracy_score(y_test, y_pred):.4f}\")\n"
   ]
  },
  {
   "cell_type": "code",
   "execution_count": 73,
   "id": "e69c8bec",
   "metadata": {},
   "outputs": [
    {
     "name": "stdout",
     "output_type": "stream",
     "text": [
      "distance: -0.083\n",
      "angle: -0.294\n",
      "shot_body_part_Left Foot: 0.456\n",
      "shot_body_part_Other: 0.787\n",
      "shot_body_part_Right Foot: 0.536\n",
      "shot_type_Free Kick: 0.011\n",
      "shot_type_Open Play: -0.608\n",
      "shot_type_Penalty: 0.747\n",
      "play_pattern_From Counter: 0.502\n",
      "play_pattern_From Free Kick: 0.185\n",
      "play_pattern_From Goal Kick: 0.294\n",
      "play_pattern_From Keeper: 0.275\n",
      "play_pattern_From Kick Off: 0.369\n",
      "play_pattern_From Throw In: 0.271\n",
      "play_pattern_Other: 0.057\n",
      "play_pattern_Regular Play: 0.265\n",
      "distance: -0.083\n",
      "angle: -0.294\n",
      "shot_body_part_Left Foot: 0.456\n",
      "shot_body_part_Other: 0.787\n",
      "shot_body_part_Right Foot: 0.536\n",
      "shot_type_Free Kick: 0.011\n",
      "shot_type_Open Play: -0.608\n",
      "shot_type_Penalty: 0.747\n",
      "play_pattern_From Counter: 0.502\n",
      "play_pattern_From Free Kick: 0.185\n",
      "play_pattern_From Goal Kick: 0.294\n",
      "play_pattern_From Keeper: 0.275\n",
      "play_pattern_From Kick Off: 0.369\n",
      "play_pattern_From Throw In: 0.271\n",
      "play_pattern_Regular Play: 0.265\n"
     ]
    }
   ],
   "source": [
    "for feature, coef in zip(X.columns, model.coef_[0]):\n",
    "    print(f\"{feature}: {coef:.3f}\")"
   ]
  },
  {
   "cell_type": "code",
   "execution_count": 74,
   "id": "41b58b45",
   "metadata": {},
   "outputs": [],
   "source": [
    "model = LogisticRegression(max_iter=1000, class_weight='balanced')"
   ]
  },
  {
   "cell_type": "code",
   "execution_count": 75,
   "id": "6cf56b30",
   "metadata": {},
   "outputs": [
    {
     "data": {
      "text/html": [
       "<style>#sk-container-id-4 {color: black;}#sk-container-id-4 pre{padding: 0;}#sk-container-id-4 div.sk-toggleable {background-color: white;}#sk-container-id-4 label.sk-toggleable__label {cursor: pointer;display: block;width: 100%;margin-bottom: 0;padding: 0.3em;box-sizing: border-box;text-align: center;}#sk-container-id-4 label.sk-toggleable__label-arrow:before {content: \"▸\";float: left;margin-right: 0.25em;color: #696969;}#sk-container-id-4 label.sk-toggleable__label-arrow:hover:before {color: black;}#sk-container-id-4 div.sk-estimator:hover label.sk-toggleable__label-arrow:before {color: black;}#sk-container-id-4 div.sk-toggleable__content {max-height: 0;max-width: 0;overflow: hidden;text-align: left;background-color: #f0f8ff;}#sk-container-id-4 div.sk-toggleable__content pre {margin: 0.2em;color: black;border-radius: 0.25em;background-color: #f0f8ff;}#sk-container-id-4 input.sk-toggleable__control:checked~div.sk-toggleable__content {max-height: 200px;max-width: 100%;overflow: auto;}#sk-container-id-4 input.sk-toggleable__control:checked~label.sk-toggleable__label-arrow:before {content: \"▾\";}#sk-container-id-4 div.sk-estimator input.sk-toggleable__control:checked~label.sk-toggleable__label {background-color: #d4ebff;}#sk-container-id-4 div.sk-label input.sk-toggleable__control:checked~label.sk-toggleable__label {background-color: #d4ebff;}#sk-container-id-4 input.sk-hidden--visually {border: 0;clip: rect(1px 1px 1px 1px);clip: rect(1px, 1px, 1px, 1px);height: 1px;margin: -1px;overflow: hidden;padding: 0;position: absolute;width: 1px;}#sk-container-id-4 div.sk-estimator {font-family: monospace;background-color: #f0f8ff;border: 1px dotted black;border-radius: 0.25em;box-sizing: border-box;margin-bottom: 0.5em;}#sk-container-id-4 div.sk-estimator:hover {background-color: #d4ebff;}#sk-container-id-4 div.sk-parallel-item::after {content: \"\";width: 100%;border-bottom: 1px solid gray;flex-grow: 1;}#sk-container-id-4 div.sk-label:hover label.sk-toggleable__label {background-color: #d4ebff;}#sk-container-id-4 div.sk-serial::before {content: \"\";position: absolute;border-left: 1px solid gray;box-sizing: border-box;top: 0;bottom: 0;left: 50%;z-index: 0;}#sk-container-id-4 div.sk-serial {display: flex;flex-direction: column;align-items: center;background-color: white;padding-right: 0.2em;padding-left: 0.2em;position: relative;}#sk-container-id-4 div.sk-item {position: relative;z-index: 1;}#sk-container-id-4 div.sk-parallel {display: flex;align-items: stretch;justify-content: center;background-color: white;position: relative;}#sk-container-id-4 div.sk-item::before, #sk-container-id-4 div.sk-parallel-item::before {content: \"\";position: absolute;border-left: 1px solid gray;box-sizing: border-box;top: 0;bottom: 0;left: 50%;z-index: -1;}#sk-container-id-4 div.sk-parallel-item {display: flex;flex-direction: column;z-index: 1;position: relative;background-color: white;}#sk-container-id-4 div.sk-parallel-item:first-child::after {align-self: flex-end;width: 50%;}#sk-container-id-4 div.sk-parallel-item:last-child::after {align-self: flex-start;width: 50%;}#sk-container-id-4 div.sk-parallel-item:only-child::after {width: 0;}#sk-container-id-4 div.sk-dashed-wrapped {border: 1px dashed gray;margin: 0 0.4em 0.5em 0.4em;box-sizing: border-box;padding-bottom: 0.4em;background-color: white;}#sk-container-id-4 div.sk-label label {font-family: monospace;font-weight: bold;display: inline-block;line-height: 1.2em;}#sk-container-id-4 div.sk-label-container {text-align: center;}#sk-container-id-4 div.sk-container {/* jupyter's `normalize.less` sets `[hidden] { display: none; }` but bootstrap.min.css set `[hidden] { display: none !important; }` so we also need the `!important` here to be able to override the default hidden behavior on the sphinx rendered scikit-learn.org. See: https://github.com/scikit-learn/scikit-learn/issues/21755 */display: inline-block !important;position: relative;}#sk-container-id-4 div.sk-text-repr-fallback {display: none;}</style><div id=\"sk-container-id-4\" class=\"sk-top-container\"><div class=\"sk-text-repr-fallback\"><pre>LogisticRegression(class_weight=&#x27;balanced&#x27;, max_iter=1000)</pre><b>In a Jupyter environment, please rerun this cell to show the HTML representation or trust the notebook. <br />On GitHub, the HTML representation is unable to render, please try loading this page with nbviewer.org.</b></div><div class=\"sk-container\" hidden><div class=\"sk-item\"><div class=\"sk-estimator sk-toggleable\"><input class=\"sk-toggleable__control sk-hidden--visually\" id=\"sk-estimator-id-4\" type=\"checkbox\" checked><label for=\"sk-estimator-id-4\" class=\"sk-toggleable__label sk-toggleable__label-arrow\">LogisticRegression</label><div class=\"sk-toggleable__content\"><pre>LogisticRegression(class_weight=&#x27;balanced&#x27;, max_iter=1000)</pre></div></div></div></div></div>"
      ],
      "text/plain": [
       "LogisticRegression(class_weight='balanced', max_iter=1000)"
      ]
     },
     "execution_count": 75,
     "metadata": {},
     "output_type": "execute_result"
    }
   ],
   "source": [
    "model.fit(X_train, y_train)"
   ]
  },
  {
   "cell_type": "code",
   "execution_count": 76,
   "id": "cc8599bf",
   "metadata": {},
   "outputs": [
    {
     "name": "stdout",
     "output_type": "stream",
     "text": [
      "AUC Score: 0.778\n",
      "              precision    recall  f1-score   support\n",
      "\n",
      "           0     0.9571    0.6883    0.8008      1784\n",
      "           1     0.2046    0.7222    0.3188       198\n",
      "\n",
      "    accuracy                         0.6917      1982\n",
      "   macro avg     0.5809    0.7053    0.5598      1982\n",
      "weighted avg     0.8820    0.6917    0.7526      1982\n",
      "\n",
      "Accuracy: 0.6917\n"
     ]
    }
   ],
   "source": [
    "from sklearn.metrics import roc_auc_score, classification_report, accuracy_score\n",
    "\n",
    "y_pred_proba = model.predict_proba(X_test)[:, 1]\n",
    "y_pred = model.predict(X_test)\n",
    "auc = roc_auc_score(y_test, y_pred_proba)\n",
    "print(f\"AUC Score: {auc:.3f}\")\n",
    "print(classification_report(y_test, y_pred, digits=4))\n",
    "print(f\"Accuracy: {accuracy_score(y_test, y_pred):.4f}\")"
   ]
  },
  {
   "cell_type": "code",
   "execution_count": 77,
   "id": "f73c3f3b",
   "metadata": {},
   "outputs": [
    {
     "name": "stdout",
     "output_type": "stream",
     "text": [
      "distance: -0.080\n",
      "angle: -0.314\n",
      "shot_body_part_Left Foot: 0.483\n",
      "shot_body_part_Other: 0.963\n",
      "shot_body_part_Right Foot: 0.538\n",
      "shot_type_Free Kick: -0.087\n",
      "shot_type_Open Play: -0.732\n",
      "shot_type_Penalty: 0.837\n",
      "play_pattern_From Counter: 0.448\n",
      "play_pattern_From Free Kick: 0.150\n",
      "play_pattern_From Goal Kick: 0.282\n",
      "play_pattern_From Keeper: 0.156\n",
      "play_pattern_From Kick Off: 0.282\n",
      "play_pattern_From Throw In: 0.250\n",
      "play_pattern_Other: -0.449\n",
      "play_pattern_Regular Play: 0.224\n",
      "distance: -0.080\n",
      "angle: -0.314\n",
      "shot_body_part_Left Foot: 0.483\n",
      "shot_body_part_Other: 0.963\n",
      "shot_body_part_Right Foot: 0.538\n",
      "shot_type_Free Kick: -0.087\n",
      "shot_type_Open Play: -0.732\n",
      "shot_type_Penalty: 0.837\n",
      "play_pattern_From Counter: 0.448\n",
      "play_pattern_From Free Kick: 0.150\n",
      "play_pattern_From Goal Kick: 0.282\n",
      "play_pattern_From Keeper: 0.156\n",
      "play_pattern_From Kick Off: 0.282\n",
      "play_pattern_From Throw In: 0.250\n",
      "play_pattern_Regular Play: 0.224\n"
     ]
    }
   ],
   "source": [
    "for feature, coef in zip(X.columns, model.coef_[0]):\n",
    "    print(f\"{feature}: {coef:.3f}\")"
   ]
  },
  {
   "cell_type": "code",
   "execution_count": 63,
   "id": "5734f7f6",
   "metadata": {},
   "outputs": [
    {
     "data": {
      "image/png": "[encoded data removed]",
      "text/plain": [
       "<Figure size 1400x1000 with 2 Axes>"
      ]
     },
     "metadata": {},
     "output_type": "display_data"
    }
   ],
   "source": [
    "import pandas as pd\n",
    "import matplotlib.pyplot as plt\n",
    "import seaborn as sns\n",
    "\n",
    "corr_matrix = X_encoded.corr()\n",
    "\n",
    "plt.figure(figsize=(14, 10))\n",
    "sns.heatmap(corr_matrix, cmap='coolwarm', center=0)\n",
    "plt.title('Feature Correlation Matrix')\n",
    "plt.show()"
   ]
  },
  {
   "cell_type": "code",
   "execution_count": 78,
   "id": "cf366f3d",
   "metadata": {},
   "outputs": [
    {
     "data": {
      "text/plain": [
       "play_pattern_Other           shot_type_Penalty              0.944011\n",
       "shot_type_Penalty            play_pattern_Other             0.944011\n",
       "shot_type_Free Kick          shot_type_Open Play            0.897506\n",
       "shot_type_Open Play          shot_type_Free Kick            0.897506\n",
       "shot_body_part_Left Foot     shot_body_part_Right Foot      0.702074\n",
       "shot_body_part_Right Foot    shot_body_part_Left Foot       0.702074\n",
       "shot_type_Free Kick          play_pattern_From Free Kick    0.431496\n",
       "play_pattern_From Free Kick  shot_type_Free Kick            0.431496\n",
       "shot_type_Penalty            shot_type_Open Play            0.420744\n",
       "shot_type_Open Play          shot_type_Penalty              0.420744\n",
       "play_pattern_Other           shot_type_Open Play            0.395116\n",
       "shot_type_Open Play          play_pattern_Other             0.395116\n",
       "                             play_pattern_From Free Kick    0.370729\n",
       "play_pattern_From Free Kick  shot_type_Open Play            0.370729\n",
       "play_pattern_From Throw In   play_pattern_Regular Play      0.340793\n",
       "play_pattern_Regular Play    play_pattern_From Throw In     0.340793\n",
       "                             play_pattern_From Free Kick    0.338189\n",
       "play_pattern_From Free Kick  play_pattern_Regular Play      0.338189\n",
       "shot_body_part_Right Foot    distance                       0.268604\n",
       "distance                     shot_body_part_Right Foot      0.268604\n",
       "dtype: float64"
      ]
     },
     "execution_count": 78,
     "metadata": {},
     "output_type": "execute_result"
    }
   ],
   "source": [
    "# Display highly correlated feature pairs\n",
    "top_corrs = corr_matrix.abs().unstack()\n",
    "top_corrs = top_corrs[top_corrs < 1].sort_values(ascending=False)\n",
    "top_corrs.head(20)"
   ]
  },
  {
   "cell_type": "code",
   "execution_count": 79,
   "id": "76d31325",
   "metadata": {},
   "outputs": [],
   "source": [
    "# Check that the column is present before dropping\n",
    "if 'play_pattern_Other' in X_final.columns:\n",
    "    X_final = X_final.drop(columns=['play_pattern_Other'])"
   ]
  },
  {
   "cell_type": "code",
   "execution_count": 80,
   "id": "88aa958a",
   "metadata": {},
   "outputs": [
    {
     "name": "stdout",
     "output_type": "stream",
     "text": [
      "['distance', 'angle', 'shot_body_part_Left Foot', 'shot_body_part_Other', 'shot_body_part_Right Foot', 'shot_type_Free Kick', 'shot_type_Open Play', 'shot_type_Penalty', 'play_pattern_From Counter', 'play_pattern_From Free Kick', 'play_pattern_From Goal Kick', 'play_pattern_From Keeper', 'play_pattern_From Kick Off', 'play_pattern_From Throw In', 'play_pattern_Regular Play', 'distance', 'angle', 'shot_body_part_Left Foot', 'shot_body_part_Other', 'shot_body_part_Right Foot', 'shot_type_Free Kick', 'shot_type_Open Play', 'shot_type_Penalty', 'play_pattern_From Counter', 'play_pattern_From Free Kick', 'play_pattern_From Goal Kick', 'play_pattern_From Keeper', 'play_pattern_From Kick Off', 'play_pattern_From Throw In', 'play_pattern_Regular Play']\n"
     ]
    }
   ],
   "source": [
    "# List all feature (column) names as a Python list\n",
    "print(list(X_final.columns))"
   ]
  },
  {
   "cell_type": "code",
   "execution_count": 81,
   "id": "ad29a647",
   "metadata": {},
   "outputs": [
    {
     "name": "stdout",
     "output_type": "stream",
     "text": [
      "['distance', 'angle', 'shot_body_part_Left Foot', 'shot_body_part_Other', 'shot_body_part_Right Foot', 'shot_type_Free Kick', 'shot_type_Open Play', 'shot_type_Penalty', 'play_pattern_From Counter', 'play_pattern_From Free Kick', 'play_pattern_From Goal Kick', 'play_pattern_From Keeper', 'play_pattern_From Kick Off', 'play_pattern_From Throw In', 'play_pattern_Regular Play']\n"
     ]
    }
   ],
   "source": [
    "# Remove duplicate columns from X_final\n",
    "X_final = X_final.loc[:,~X_final.columns.duplicated()]\n",
    "print(list(X_final.columns))  # Verify only unique features are present"
   ]
  },
  {
   "cell_type": "code",
   "execution_count": null,
   "id": "352a884c",
   "metadata": {},
   "outputs": [],
   "source": [
    "X_final['']"
   ]
  }
 ],
 "metadata": {
  "kernelspec": {
   "display_name": "Python 3",
   "language": "python",
   "name": "python3"
  },
  "language_info": {
   "codemirror_mode": {
    "name": "ipython",
    "version": 3
   },
   "file_extension": ".py",
   "mimetype": "text/x-python",
   "name": "python",
   "nbconvert_exporter": "python",
   "pygments_lexer": "ipython3",
   "version": "3.11.9"
  }
 },
 "nbformat": 4,
 "nbformat_minor": 5
}
